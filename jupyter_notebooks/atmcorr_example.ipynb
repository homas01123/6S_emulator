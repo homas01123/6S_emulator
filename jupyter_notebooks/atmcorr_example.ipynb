{
 "cells": [
  {
   "cell_type": "markdown",
   "metadata": {},
   "source": [
    "# Atmospheric Correction"
   ]
  },
  {
   "cell_type": "markdown",
   "metadata": {},
   "source": [
    "In remote sensing we often need to calculate surface reflectance (ρ) from radiance (L) measure by a given sensor"
   ]
  },
  {
   "cell_type": "markdown",
   "metadata": {},
   "source": [
    "### ρ = π(L -L<sub>p</sub>) / τ(E<sub>dir</sub> + E<sub>dif</sub>)"
   ]
  },
  {
   "cell_type": "markdown",
   "metadata": {},
   "source": [
    "where\n",
    "\n",
    "* ρ = surface reflectance\n",
    "* L = at-sensor radiance\n",
    "* L<sub>p</sub> = path radiance\n",
    "* τ = transmissivity (from surface to satellite)\n",
    "* E<sub>dir</sub> = direct solar irradiance \n",
    "* E<sub>dif</sub> = diffuse solar irradiance\n",
    "* π = 3.1415\n",
    "\n"
   ]
  },
  {
   "cell_type": "markdown",
   "metadata": {},
   "source": [
    "Let's say a satellite sensor measures a radiance of 120"
   ]
  },
  {
   "cell_type": "code",
   "execution_count": 2,
   "metadata": {},
   "outputs": [],
   "source": [
    "L = 120"
   ]
  },
  {
   "cell_type": "markdown",
   "metadata": {},
   "source": [
    "There are 4 unknowns remaining and they on i) atmospheric conditions and ii) Earth-Sun-Satellite geometry"
   ]
  },
  {
   "cell_type": "markdown",
   "metadata": {},
   "source": [
    "**Atmospheric Conditions** <br />\n",
    "let's say we have measured values of:"
   ]
  },
  {
   "cell_type": "code",
   "execution_count": 3,
   "metadata": {},
   "outputs": [],
   "source": [
    "H2O = 1    # water vapour (g cm-2)\n",
    "O3 = 0.4   # ozone (atm-cm)\n",
    "AOT = 0.3  # aerosol optical thickness"
   ]
  },
  {
   "cell_type": "markdown",
   "metadata": {},
   "source": [
    "**Earth-Sun-Satellite Geometry** <br />\n",
    "and some additional measurements:"
   ]
  },
  {
   "cell_type": "code",
   "execution_count": 4,
   "metadata": {},
   "outputs": [],
   "source": [
    "alt = 0      # target altitude (km)\n",
    "solar_z = 20 # solar zenith angle (degrees)\n",
    "view_z = 0   # view zentith angle (degrees)\n",
    "doy = 4      # Earth-Sun distance (Astronomical Units)"
   ]
  },
  {
   "cell_type": "markdown",
   "metadata": {},
   "source": [
    "**Potential data sources**\n",
    "\n",
    "* Water vapour: [NCEP/NCAR](http://journals.ametsoc.org/doi/abs/10.1175/1520-0477%281996%29077%3C0437%3ATNYRP%3E2.0.CO%3B2)\n",
    "* Ozone: [TOMS/OMI](http://ozoneaq.gsfc.nasa.gov/missions). \n",
    "* Aerosol optical thickness: [MODIS Aerosol Product](http://modis-atmos.gsfc.nasa.gov/MOD04_L2/index.html) or in-scene techniques\n",
    "* Geometry and day-of-year: satellite image metadata\n"
   ]
  },
  {
   "cell_type": "markdown",
   "metadata": {},
   "source": [
    "**6S emulator**"
   ]
  },
  {
   "cell_type": "code",
   "execution_count": 14,
   "metadata": {},
   "outputs": [],
   "source": [
    "# loading dependencies\n",
    "import xarray as xr\n",
    "import rioxarray as rxr\n",
    "import numpy as np\n",
    "from Py6S import *\n",
    "import datetime\n",
    "import math\n",
    "import os\n",
    "import sys\n",
    "import atmos\n",
    "from datetime import datetime, timedelta\n",
    "import act\n",
    "import ee\n",
    "import os\n",
    "import sys\n",
    "sys.path.append(os.path.join(os.path.dirname(os.getcwd()),'bin'))\n",
    "from interpolated_LUTs import Interpolated_LUTs"
   ]
  },
  {
   "cell_type": "markdown",
   "metadata": {},
   "source": [
    "The 6S emulator is **100x** faster than the radiative transfer code. This speed increased is acheived by using interpolated look-up tables (iLUTs). This trades set-up time for execution time."
   ]
  },
  {
   "cell_type": "code",
   "execution_count": 6,
   "metadata": {},
   "outputs": [
    {
     "name": "stdout",
     "output_type": "stream",
     "text": [
      "files directory not found, will create at:\n",
      "/home/jovyan/6S_emulator/files\n",
      "LUT directory created:\n",
      "/home/jovyan/6S_emulator/files/LUTs/S2A_MSI/Continental/view_zenith_0\n",
      "iLUT directory created:\n",
      "/home/jovyan/6S_emulator/files/iLUTs/S2A_MSI/Continental/view_zenith_0\n"
     ]
    }
   ],
   "source": [
    "# instantiate interpolated look up table class\n",
    "iLUTs = Interpolated_LUTs('COPERNICUS/S2') # i.e. Sentinel 2"
   ]
  },
  {
   "cell_type": "code",
   "execution_count": 7,
   "metadata": {},
   "outputs": [
    {
     "name": "stdout",
     "output_type": "stream",
     "text": [
      "Downloading look up table (LUT) zip file..\n",
      "Extracting zip file..\n",
      "Done: LUT files available locally\n"
     ]
    }
   ],
   "source": [
    "# download look-up tables\n",
    "iLUTs.download_LUTs()"
   ]
  },
  {
   "cell_type": "code",
   "execution_count": 8,
   "metadata": {},
   "outputs": [
    {
     "name": "stdout",
     "output_type": "stream",
     "text": [
      "running n-dimensional interpolation may take a few minutes...\n",
      "Interpolating: S2A_MSI_01.lut\n",
      "Interpolation took 22.79 (secs) = \n",
      "Interpolating: S2A_MSI_02.lut\n",
      "Interpolation took 22.92 (secs) = \n",
      "Interpolating: S2A_MSI_03.lut\n",
      "Interpolation took 23.00 (secs) = \n",
      "Interpolating: S2A_MSI_04.lut\n",
      "Interpolation took 23.62 (secs) = \n",
      "Interpolating: S2A_MSI_05.lut\n",
      "Interpolation took 22.65 (secs) = \n",
      "Interpolating: S2A_MSI_06.lut\n",
      "Interpolation took 22.68 (secs) = \n",
      "Interpolating: S2A_MSI_07.lut\n",
      "Interpolation took 22.53 (secs) = \n",
      "Interpolating: S2A_MSI_08.lut\n",
      "Interpolation took 22.40 (secs) = \n",
      "Interpolating: S2A_MSI_09.lut\n",
      "Interpolation took 22.39 (secs) = \n",
      "Interpolating: S2A_MSI_10.lut\n",
      "Interpolation took 22.47 (secs) = \n",
      "Interpolating: S2A_MSI_11.lut\n",
      "Interpolation took 22.98 (secs) = \n",
      "Interpolating: S2A_MSI_12.lut\n",
      "Interpolation took 23.14 (secs) = \n",
      "Interpolating: S2A_MSI_13.lut\n",
      "Interpolation took 23.19 (secs) = \n"
     ]
    }
   ],
   "source": [
    "# interpolate look-up tables\n",
    "iLUTs.interpolate_LUTs()"
   ]
  },
  {
   "cell_type": "markdown",
   "metadata": {},
   "source": [
    "If you are running this notebook in a docker container then you can save these interpolated look-up tables (and your Earth Engine authentication) for later using a [docker commit](https://github.com/samsammurphy/6S_emulator/wiki/docker-commits). This will save them to memory so that you only have to do the set-up once."
   ]
  },
  {
   "cell_type": "code",
   "execution_count": 1,
   "metadata": {},
   "outputs": [
    {
     "ename": "NameError",
     "evalue": "name 'iLUTs' is not defined",
     "output_type": "error",
     "traceback": [
      "\u001b[0;31m---------------------------------------------------------------------------\u001b[0m",
      "\u001b[0;31mNameError\u001b[0m                                 Traceback (most recent call last)",
      "Cell \u001b[0;32mIn[1], line 1\u001b[0m\n\u001b[0;32m----> 1\u001b[0m iLUTs_all_wavebands \u001b[38;5;241m=\u001b[39m \u001b[43miLUTs\u001b[49m\u001b[38;5;241m.\u001b[39mget()\n\u001b[1;32m      2\u001b[0m iLUTs_all_wavebands\n",
      "\u001b[0;31mNameError\u001b[0m: name 'iLUTs' is not defined"
     ]
    }
   ],
   "source": [
    "iLUTs_all_wavebands = iLUTs.get()\n",
    "iLUTs_all_wavebands"
   ]
  },
  {
   "cell_type": "code",
   "execution_count": 15,
   "metadata": {},
   "outputs": [],
   "source": [
    "# for example let's look at band 1\n",
    "iLUT_B1 = iLUTs_all_wavebands['B1']"
   ]
  },
  {
   "cell_type": "markdown",
   "metadata": {},
   "source": [
    "We can get atmospheric correction coefficients (a, b) for *perihelion*:"
   ]
  },
  {
   "cell_type": "code",
   "execution_count": 16,
   "metadata": {},
   "outputs": [
    {
     "data": {
      "text/plain": [
       "(64.7571, 393.9648244144661)"
      ]
     },
     "execution_count": 16,
     "metadata": {},
     "output_type": "execute_result"
    }
   ],
   "source": [
    "a, b = iLUT_B1(solar_z,H2O,O3,AOT,alt)\n",
    "a,b"
   ]
  },
  {
   "cell_type": "markdown",
   "metadata": {},
   "source": [
    "and corrected for Earth's [elliptical orbit](https://github.com/samsammurphy/6S_LUT/wiki/Elliptical-Orbit-Correction):"
   ]
  },
  {
   "cell_type": "code",
   "execution_count": 19,
   "metadata": {},
   "outputs": [
    {
     "data": {
      "text/plain": [
       "(64.85122900782251, 394.5374800466532)"
      ]
     },
     "execution_count": 19,
     "metadata": {},
     "output_type": "execute_result"
    }
   ],
   "source": [
    "import math\n",
    "\n",
    "elliptical_orbit_correction = 0.03275104*math.cos(doy/59.66638337) + 0.96804905\n",
    "a *= elliptical_orbit_correction\n",
    "b *= elliptical_orbit_correction\n",
    "a,b"
   ]
  },
  {
   "cell_type": "markdown",
   "metadata": {},
   "source": [
    "to get the correction coefficients we need to calculate surface reflectance."
   ]
  },
  {
   "cell_type": "code",
   "execution_count": 20,
   "metadata": {},
   "outputs": [
    {
     "name": "stdout",
     "output_type": "stream",
     "text": [
      "Surface Reflectance = 0.140\n"
     ]
    }
   ],
   "source": [
    "ρ = (L-a)/b\n",
    "\n",
    "print('Surface Reflectance = {:.3f}'.format(ρ))"
   ]
  }
 ],
 "metadata": {
  "anaconda-cloud": {},
  "kernelspec": {
   "display_name": "Python 3 (ipykernel)",
   "language": "python",
   "name": "python3"
  },
  "language_info": {
   "codemirror_mode": {
    "name": "ipython",
    "version": 3
   },
   "file_extension": ".py",
   "mimetype": "text/x-python",
   "name": "python",
   "nbconvert_exporter": "python",
   "pygments_lexer": "ipython3",
   "version": "3.10.13"
  }
 },
 "nbformat": 4,
 "nbformat_minor": 4
}
