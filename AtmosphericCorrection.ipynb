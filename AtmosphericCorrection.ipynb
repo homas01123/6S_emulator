{
 "cells": [
  {
   "cell_type": "code",
   "execution_count": 3,
   "id": "47d3ecf1-4c5c-4c4a-a8ee-9e4bb21a2fdd",
   "metadata": {},
   "outputs": [
    {
     "name": "stdout",
     "output_type": "stream",
     "text": [
      "Collecting earthengine-api\n",
      "  Downloading earthengine_api-0.1.402-py3-none-any.whl.metadata (1.7 kB)\n",
      "Requirement already satisfied: google-cloud-storage in /opt/conda/lib/python3.10/site-packages (from earthengine-api) (2.16.0)\n",
      "Requirement already satisfied: google-api-python-client>=1.12.1 in /opt/conda/lib/python3.10/site-packages (from earthengine-api) (1.12.11)\n",
      "Requirement already satisfied: google-auth>=1.4.1 in /opt/conda/lib/python3.10/site-packages (from earthengine-api) (2.29.0)\n",
      "Requirement already satisfied: google-auth-httplib2>=0.0.3 in /opt/conda/lib/python3.10/site-packages (from earthengine-api) (0.2.0)\n",
      "Requirement already satisfied: httplib2<1dev,>=0.9.2 in /opt/conda/lib/python3.10/site-packages (from earthengine-api) (0.22.0)\n",
      "Requirement already satisfied: requests in /opt/conda/lib/python3.10/site-packages (from earthengine-api) (2.31.0)\n",
      "Requirement already satisfied: six<2dev,>=1.13.0 in /opt/conda/lib/python3.10/site-packages (from google-api-python-client>=1.12.1->earthengine-api) (1.16.0)\n",
      "Requirement already satisfied: uritemplate<4dev,>=3.0.0 in /opt/conda/lib/python3.10/site-packages (from google-api-python-client>=1.12.1->earthengine-api) (3.0.1)\n",
      "Requirement already satisfied: google-api-core<3dev,>=1.21.0 in /opt/conda/lib/python3.10/site-packages (from google-api-python-client>=1.12.1->earthengine-api) (2.18.0)\n",
      "Requirement already satisfied: cachetools<6.0,>=2.0.0 in /opt/conda/lib/python3.10/site-packages (from google-auth>=1.4.1->earthengine-api) (5.3.2)\n",
      "Requirement already satisfied: pyasn1-modules>=0.2.1 in /opt/conda/lib/python3.10/site-packages (from google-auth>=1.4.1->earthengine-api) (0.4.0)\n",
      "Requirement already satisfied: rsa<5,>=3.1.4 in /opt/conda/lib/python3.10/site-packages (from google-auth>=1.4.1->earthengine-api) (4.9)\n",
      "Requirement already satisfied: pyparsing!=3.0.0,!=3.0.1,!=3.0.2,!=3.0.3,<4,>=2.4.2 in /opt/conda/lib/python3.10/site-packages (from httplib2<1dev,>=0.9.2->earthengine-api) (3.1.1)\n",
      "Requirement already satisfied: google-cloud-core<3.0dev,>=2.3.0 in /opt/conda/lib/python3.10/site-packages (from google-cloud-storage->earthengine-api) (2.4.1)\n",
      "Requirement already satisfied: google-resumable-media>=2.6.0 in /opt/conda/lib/python3.10/site-packages (from google-cloud-storage->earthengine-api) (2.7.0)\n",
      "Requirement already satisfied: google-crc32c<2.0dev,>=1.0 in /opt/conda/lib/python3.10/site-packages (from google-cloud-storage->earthengine-api) (1.5.0)\n",
      "Requirement already satisfied: charset-normalizer<4,>=2 in /opt/conda/lib/python3.10/site-packages (from requests->earthengine-api) (3.3.2)\n",
      "Requirement already satisfied: idna<4,>=2.5 in /opt/conda/lib/python3.10/site-packages (from requests->earthengine-api) (3.6)\n",
      "Requirement already satisfied: urllib3<3,>=1.21.1 in /opt/conda/lib/python3.10/site-packages (from requests->earthengine-api) (1.26.18)\n",
      "Requirement already satisfied: certifi>=2017.4.17 in /opt/conda/lib/python3.10/site-packages (from requests->earthengine-api) (2024.2.2)\n",
      "Requirement already satisfied: googleapis-common-protos<2.0.dev0,>=1.56.2 in /opt/conda/lib/python3.10/site-packages (from google-api-core<3dev,>=1.21.0->google-api-python-client>=1.12.1->earthengine-api) (1.63.0)\n",
      "Requirement already satisfied: protobuf!=3.20.0,!=3.20.1,!=4.21.0,!=4.21.1,!=4.21.2,!=4.21.3,!=4.21.4,!=4.21.5,<5.0.0.dev0,>=3.19.5 in /opt/conda/lib/python3.10/site-packages (from google-api-core<3dev,>=1.21.0->google-api-python-client>=1.12.1->earthengine-api) (3.20.3)\n",
      "Requirement already satisfied: proto-plus<2.0.0dev,>=1.22.3 in /opt/conda/lib/python3.10/site-packages (from google-api-core<3dev,>=1.21.0->google-api-python-client>=1.12.1->earthengine-api) (1.23.0)\n",
      "Requirement already satisfied: pyasn1<0.7.0,>=0.4.6 in /opt/conda/lib/python3.10/site-packages (from pyasn1-modules>=0.2.1->google-auth>=1.4.1->earthengine-api) (0.6.0)\n",
      "Downloading earthengine_api-0.1.402-py3-none-any.whl (354 kB)\n",
      "\u001b[2K   \u001b[90m━━━━━━━━━━━━━━━━━━━━━━━━━━━━━━━━━━━━━━━━\u001b[0m \u001b[32m354.8/354.8 kB\u001b[0m \u001b[31m6.8 MB/s\u001b[0m eta \u001b[36m0:00:00\u001b[0ma \u001b[36m0:00:01\u001b[0m\n",
      "\u001b[?25hInstalling collected packages: earthengine-api\n",
      "Successfully installed earthengine-api-0.1.402\n",
      "\u001b[33mWARNING: Running pip as the 'root' user can result in broken permissions and conflicting behaviour with the system package manager. It is recommended to use a virtual environment instead: https://pip.pypa.io/warnings/venv\u001b[0m\u001b[33m\n",
      "\u001b[0mNote: you may need to restart the kernel to use updated packages.\n"
     ]
    }
   ],
   "source": [
    "pip install earthengine-api"
   ]
  },
  {
   "cell_type": "code",
   "execution_count": 4,
   "id": "5e7f36e1",
   "metadata": {},
   "outputs": [
    {
     "ename": "ModuleNotFoundError",
     "evalue": "No module named 'act'",
     "output_type": "error",
     "traceback": [
      "\u001b[0;31m---------------------------------------------------------------------------\u001b[0m",
      "\u001b[0;31mModuleNotFoundError\u001b[0m                       Traceback (most recent call last)",
      "Cell \u001b[0;32mIn[4], line 11\u001b[0m\n\u001b[1;32m      9\u001b[0m \u001b[38;5;28;01mimport\u001b[39;00m \u001b[38;5;21;01matmos\u001b[39;00m\n\u001b[1;32m     10\u001b[0m \u001b[38;5;28;01mfrom\u001b[39;00m \u001b[38;5;21;01mdatetime\u001b[39;00m \u001b[38;5;28;01mimport\u001b[39;00m datetime, timedelta\n\u001b[0;32m---> 11\u001b[0m \u001b[38;5;28;01mimport\u001b[39;00m \u001b[38;5;21;01mact\u001b[39;00m\n\u001b[1;32m     12\u001b[0m \u001b[38;5;28;01mimport\u001b[39;00m \u001b[38;5;21;01mee\u001b[39;00m\n",
      "\u001b[0;31mModuleNotFoundError\u001b[0m: No module named 'act'"
     ]
    }
   ],
   "source": [
    "import xarray as xr\n",
    "import rioxarray as rxr\n",
    "import numpy as np\n",
    "# from Py6S import *\n",
    "import datetime\n",
    "import math\n",
    "import os\n",
    "import sys\n",
    "import atmos\n",
    "from datetime import datetime, timedelta\n",
    "import act\n",
    "import ee"
   ]
  },
  {
   "cell_type": "code",
   "execution_count": 10,
   "id": "5ef9f3ab",
   "metadata": {},
   "outputs": [
    {
     "data": {
      "text/plain": [
       "True"
      ]
     },
     "execution_count": 10,
     "metadata": {},
     "output_type": "execute_result"
    }
   ],
   "source": [
    "ee.Authenticate()"
   ]
  },
  {
   "cell_type": "code",
   "execution_count": 11,
   "id": "3c97c742",
   "metadata": {},
   "outputs": [],
   "source": [
    "ee.Initialize()"
   ]
  },
  {
   "cell_type": "code",
   "execution_count": null,
   "id": "1ad52262-3728-4ddd-932d-ea6a1652ea3f",
   "metadata": {},
   "outputs": [],
   "source": [
    "data = rxr.open_rasterio('../Ks/Clipped_car1.tif')"
   ]
  },
  {
   "cell_type": "code",
   "execution_count": 12,
   "id": "fbe0c0c5-d99e-4a3a-bfe5-9262605f520a",
   "metadata": {},
   "outputs": [
    {
     "name": "stdout",
     "output_type": "stream",
     "text": [
      "{'B1': 196.78, 'B2': 182.01, 'B3': 157.54, 'B4': 110.86}\n"
     ]
    }
   ],
   "source": [
    "# Given solar radiance values\n",
    "solar_radiance = {\n",
    "    'B1': 196.780,\n",
    "    'B2': 182.010,\n",
    "    'B3': 157.540,\n",
    "    'B4': 110.860\n",
    "}\n",
    "\n",
    "# Hypothetical distance from the sun (in astronomical units)\n",
    "distance_to_sun_au = 1.0\n",
    "\n",
    "# Calculate irradiance for each band\n",
    "irradiance_values = {}\n",
    "for band, radiance in solar_radiance.items():\n",
    "    irradiance = radiance / (distance_to_sun_au ** 2)\n",
    "    irradiance_values[band] = irradiance\n",
    "\n",
    "# Print the resulting dictionary\n",
    "print(irradiance_values)\n"
   ]
  },
  {
   "cell_type": "code",
   "execution_count": 13,
   "id": "9c5f8f71-0178-4a99-bb8c-19cab8a060e7",
   "metadata": {},
   "outputs": [
    {
     "ename": "NameError",
     "evalue": "name 'data' is not defined",
     "output_type": "error",
     "traceback": [
      "\u001b[0;31m---------------------------------------------------------------------------\u001b[0m",
      "\u001b[0;31mNameError\u001b[0m                                 Traceback (most recent call last)",
      "Cell \u001b[0;32mIn[13], line 2\u001b[0m\n\u001b[1;32m      1\u001b[0m \u001b[38;5;66;03m# top of atmosphere reflectance\u001b[39;00m\n\u001b[0;32m----> 2\u001b[0m toa \u001b[38;5;241m=\u001b[39m \u001b[43mdata\u001b[49m\u001b[38;5;241m/\u001b[39m\u001b[38;5;241m2047\u001b[39m\n",
      "\u001b[0;31mNameError\u001b[0m: name 'data' is not defined"
     ]
    }
   ],
   "source": [
    "# top of atmosphere reflectance\n",
    "toa = data/2047"
   ]
  },
  {
   "cell_type": "code",
   "execution_count": 17,
   "id": "07b94a73-5a39-4417-9eee-bd71d55878cc",
   "metadata": {},
   "outputs": [],
   "source": [
    "scene_date = datetime.strptime('05-Mar-2022 04:38:32:4464', \"%d-%b-%Y %H:%M:%S:%f\")\n",
    "solar_z = 191.21318\n",
    "geom = ee.Geometry.Polygon(\n",
    "    [[[77.525964, 13.163993],\n",
    "      [77.683703, 13.133772],\n",
    "      [77.651635, 12.973449],\n",
    "      [77.493987, 13.003631]]]\n",
    ")"
   ]
  },
  {
   "cell_type": "code",
   "execution_count": 16,
   "id": "a7ca6e6b-3289-4c3f-b4e2-76ec0cf6031c",
   "metadata": {},
   "outputs": [
    {
     "data": {
      "text/plain": [
       "datetime.datetime(2022, 3, 5, 4, 38, 32, 446400)"
      ]
     },
     "execution_count": 16,
     "metadata": {},
     "output_type": "execute_result"
    }
   ],
   "source": [
    "scene_date"
   ]
  },
  {
   "cell_type": "code",
   "execution_count": 18,
   "id": "052bc6d5",
   "metadata": {},
   "outputs": [],
   "source": [
    "def round_date(date, xhour):\n",
    "    \"\"\"\n",
    "    Rounds a date to the closest 'x' hours\n",
    "    \"\"\"\n",
    "    rounded_date = date - timedelta(hours=date.hour % xhour, minutes=date.minute, seconds=date.second, microseconds=date.microsecond)\n",
    "    rounded_date += timedelta(hours=xhour//2)\n",
    "    return rounded_date"
   ]
  },
  {
   "cell_type": "code",
   "execution_count": 19,
   "id": "ad264390",
   "metadata": {},
   "outputs": [
    {
     "name": "stdout",
     "output_type": "stream",
     "text": [
      "2022-03-05 03:00:00\n"
     ]
    }
   ],
   "source": [
    "rounded_date = round_date(scene_date, 6)\n",
    "print(rounded_date)\n"
   ]
  },
  {
   "cell_type": "code",
   "execution_count": 23,
   "id": "c05e57ad",
   "metadata": {},
   "outputs": [],
   "source": [
    "def round_month(date):\n",
    "    \"\"\"\n",
    "    Round date to the closest month\n",
    "    \"\"\"\n",
    "#     date = ee.Date(date)\n",
    "    # Start of THIS month\n",
    "    m1 = ee.Date.fromYMD(date.get('year'), date.get('month'), ee.Number(1))\n",
    "    \n",
    "    # Start of NEXT month\n",
    "    m2 = m1.advance(1, 'month')\n",
    "      \n",
    "    # Difference from date\n",
    "    d1 = ee.Number(date.difference(m1, 'day')).abs()\n",
    "    d2 = ee.Number(date.difference(m2, 'day')).abs()\n",
    "    \n",
    "    # Return closest start of month\n",
    "    closest_month = ee.Algorithms.If(d2.gt(d1), m1, m2)\n",
    "    \n",
    "    return ee.Date(closest_month)\n"
   ]
  },
  {
   "cell_type": "code",
   "execution_count": 24,
   "id": "4329623b-6b1e-42a3-a6a1-9a9c3af818d0",
   "metadata": {},
   "outputs": [],
   "source": [
    "import ee\n",
    "\n",
    "def water(geom, date):\n",
    "    \"\"\"\n",
    "    Water vapour column above target at time of image aquisition.\n",
    "    \n",
    "    (Kalnay et al., 1996, The NCEP/NCAR 40-Year Reanalysis Project. Bull. \n",
    "    Amer. Meteor. Soc., 77, 437-471)\n",
    "    \"\"\"\n",
    "    \n",
    "    # Point geometry required\n",
    "    centroid = geom.centroid()\n",
    "    \n",
    "    # Convert Python datetime to Earth Engine ee.Date\n",
    "    H2O_date = ee.Date(round_date(date, 6))\n",
    "    \n",
    "    # Filtered water collection\n",
    "    water_ic = ee.ImageCollection('NCEP_RE/surface_wv').filterDate(H2O_date, H2O_date.advance(1, 'month'))\n",
    "    \n",
    "    # Water image\n",
    "    water_img = ee.Image(water_ic.first())\n",
    "    \n",
    "    # Water vapour at target\n",
    "    water = water_img.reduceRegion(reducer=ee.Reducer.mean(), geometry=centroid).get('pr_wtr')\n",
    "                                        \n",
    "    # Convert to Py6S units (Google = kg/m^2, Py6S = g/cm^2)\n",
    "    water_Py6S_units = ee.Number(water).divide(10)   \n",
    "    \n",
    "    # Get the numerical result\n",
    "    water_value = water_Py6S_units.getInfo()\n",
    "    \n",
    "    return water_value\n"
   ]
  },
  {
   "cell_type": "code",
   "execution_count": 25,
   "id": "2166dfb3-549f-42c3-9d90-27b82d8640b0",
   "metadata": {},
   "outputs": [
    {
     "data": {
      "text/plain": [
       "1.8200000762939452"
      ]
     },
     "execution_count": 25,
     "metadata": {},
     "output_type": "execute_result"
    }
   ],
   "source": [
    "water(geom,scene_date)"
   ]
  },
  {
   "cell_type": "code",
   "execution_count": 26,
   "id": "b6bf3962",
   "metadata": {},
   "outputs": [],
   "source": [
    "import ee\n",
    "\n",
    "def ozone(geom, date):\n",
    "    \"\"\"\n",
    "    Returns ozone measurement from the merged TOMS/OMI dataset\n",
    "    or uses the fill value (mean value for that latlon and day-of-year).\n",
    "    \"\"\"\n",
    "    \n",
    "    # Point geometry required\n",
    "    centroid = geom.centroid()\n",
    "       \n",
    "    def ozone_measurement(centroid, o3_date):\n",
    "        # Filtered ozone collection\n",
    "        \n",
    "        ozone_ic = ee.ImageCollection('TOMS/MERGED').filterDate(o3_date, o3_date.advance(1, 'month'))\n",
    "        \n",
    "        # Ozone image\n",
    "        ozone_img = ee.Image(ozone_ic.first())\n",
    "        \n",
    "        # Ozone value if TOMS/OMI image exists, else use fill value\n",
    "        ozone = ee.Algorithms.If(\n",
    "            ozone_img,\n",
    "            ozone_img.reduceRegion(reducer=ee.Reducer.mean(), geometry=centroid).get('ozone'),\n",
    "            ozone_fill(centroid, o3_date)\n",
    "        )\n",
    "        \n",
    "        return ozone\n",
    "      \n",
    "    def ozone_fill(centroid, o3_date):\n",
    "        \"\"\"\n",
    "        Gets our ozone fill value (i.e. mean value for that doy and latlon)\n",
    "        \"\"\"\n",
    "        # Ozone fills (i.e., one band per doy)\n",
    "        \n",
    "        ozone_fills = ee.ImageCollection('users/samsammurphy/public/ozone_fill').toList(366)\n",
    "        \n",
    "        # Day of year index\n",
    "        jan01 = ee.Date.fromYMD(o3_date.get('year'), 1, 1)\n",
    "        doy_index = o3_date.difference(jan01, 'day').toInt()  # (NB. index is one less than doy, so no need to +1)\n",
    "        \n",
    "        # Day of year image\n",
    "        fill_image = ee.Image(ozone_fills.get(doy_index))\n",
    "        \n",
    "        # Return scalar fill value\n",
    "        return fill_image.reduceRegion(reducer=ee.Reducer.mean(), geometry=centroid).get('ozone')\n",
    "     \n",
    "    # O3 datetime in 24-hour intervals\n",
    "    o3_date = ee.Date(round_date(date, 24))\n",
    "    \n",
    "    # TOMS temporal gap\n",
    "    toms_gap = ee.DateRange('2022-01-01', '2022-09-01')  \n",
    "    \n",
    "    # Avoid TOMS gap entirely\n",
    "    ozone = ee.Algorithms.If(toms_gap.contains(o3_date),\n",
    "                             ozone_fill(centroid, o3_date),\n",
    "                             ozone_measurement(centroid, o3_date))\n",
    "    \n",
    "    # Fix other data gaps (e.g., spatial, missing images, etc.)\n",
    "    ozone = ee.Algorithms.If(ozone, ozone, ozone_fill(centroid, o3_date))\n",
    "    \n",
    "    # Convert to Py6S units \n",
    "    ozone_py6s_units = ee.Number(ozone).divide(1000)  # Dobson units are milli-atm-cm\n",
    "    \n",
    "    ozone_value = ozone_py6s_units.getInfo()\n",
    "    \n",
    "    return ozone_value\n"
   ]
  },
  {
   "cell_type": "code",
   "execution_count": 27,
   "id": "d41f7b35",
   "metadata": {},
   "outputs": [
    {
     "data": {
      "text/plain": [
       "0.24941249999999998"
      ]
     },
     "execution_count": 27,
     "metadata": {},
     "output_type": "execute_result"
    }
   ],
   "source": [
    "ozone(geom,scene_date)"
   ]
  },
  {
   "cell_type": "code",
   "execution_count": 28,
   "id": "7d0d4a8e",
   "metadata": {},
   "outputs": [],
   "source": [
    "def aerosol(geom, date):\n",
    "    \"\"\"\n",
    "    Aerosol Optical Thickness.\n",
    "\n",
    "    try:\n",
    "        MODIS Aerosol Product (monthly)\n",
    "    except:\n",
    "        fill value\n",
    "    \"\"\"\n",
    "    date = ee.Date(date)\n",
    "    \n",
    "    def aerosol_fill(date):\n",
    "        \"\"\"\n",
    "        MODIS AOT fill value for this month (i.e., no data gaps)\n",
    "        \"\"\"\n",
    "        return (\n",
    "            ee.Image('users/samsammurphy/public/AOT_stack')\n",
    "            .select([ee.String('AOT_').cat(date.format('M'))])\n",
    "            .rename(['AOT_550'])\n",
    "        )\n",
    "\n",
    "    def aerosol_this_month(date):\n",
    "        \"\"\"\n",
    "        MODIS AOT original data product for this month (i.e., some data gaps)\n",
    "        \"\"\"\n",
    "        # Image for this month\n",
    "        img = ee.ImageCollection('MODIS/006/MOD08_M3')\\\n",
    "            .filterDate(round_month(date))\\\n",
    "            .first()\n",
    "\n",
    "        # Fill missing month (?)\n",
    "        img = ee.Algorithms.If(\n",
    "            img,\n",
    "            # All good\n",
    "            img.select(['Aerosol_Optical_Depth_Land_Mean_Mean_550'])\n",
    "                .divide(1000)\n",
    "                .rename(['AOT_550']),\n",
    "            # Missing month\n",
    "            aerosol_fill(date)\n",
    "        )\n",
    "\n",
    "        return img\n",
    "\n",
    "    def get_AOT(AOT_band, geom):\n",
    "        \"\"\"\n",
    "        AOT scalar value for the target\n",
    "        \"\"\"\n",
    "        return (\n",
    "            ee.Image(AOT_band)\n",
    "            .reduceRegion(reducer=ee.Reducer.mean(), geometry=geom.centroid())\n",
    "            .get('AOT_550')\n",
    "        )\n",
    "\n",
    "    after_modis_start = date.difference(ee.Date('2022-05-03'), 'month').gt(0)\n",
    "\n",
    "    AOT_band = ee.Algorithms.If(\n",
    "        after_modis_start,\n",
    "        aerosol_this_month(date),\n",
    "        aerosol_fill(date)\n",
    "    )\n",
    "\n",
    "    AOT = get_AOT(AOT_band, geom)\n",
    "\n",
    "    AOT = ee.Algorithms.If(\n",
    "        AOT,\n",
    "        AOT,\n",
    "        get_AOT(aerosol_fill(date), geom)\n",
    "    )\n",
    "    # i.e. check reduce region worked (else force fill value)\n",
    "    AOT = AOT.getInfo()\n",
    "    return AOT"
   ]
  },
  {
   "cell_type": "code",
   "execution_count": 29,
   "id": "92c817e9",
   "metadata": {},
   "outputs": [
    {
     "name": "stderr",
     "output_type": "stream",
     "text": [
      "/opt/conda/lib/python3.10/site-packages/ee/deprecation.py:202: DeprecationWarning: \n",
      "\n",
      "Attention required for MODIS/006/MOD08_M3! You are using a deprecated asset.\n",
      "To ensure continued functionality, please update it.\n",
      "Learn more: https://developers.google.com/earth-engine/datasets/catalog/MODIS_006_MOD08_M3\n",
      "\n",
      "  warnings.warn(warning, category=DeprecationWarning)\n"
     ]
    },
    {
     "data": {
      "text/plain": [
       "0.17933334410190582"
      ]
     },
     "execution_count": 29,
     "metadata": {},
     "output_type": "execute_result"
    }
   ],
   "source": [
    "aerosol(geom,scene_date)"
   ]
  },
  {
   "cell_type": "code",
   "execution_count": 30,
   "id": "113a082c",
   "metadata": {},
   "outputs": [],
   "source": [
    "h2o = water(geom,scene_date)\n",
    "o3 = ozone(geom,scene_date)\n",
    "aot = aerosol(geom,scene_date)"
   ]
  },
  {
   "cell_type": "code",
   "execution_count": 27,
   "id": "abda67c5",
   "metadata": {},
   "outputs": [],
   "source": [
    "SRTM = ee.Image('CGIAR/SRTM90_V4')# Shuttle Radar Topography mission covers *most* of the Earth\n",
    "alt = SRTM.reduceRegion(reducer = ee.Reducer.mean(),geometry = geom.centroid()).get('elevation').getInfo()\n",
    "km = alt/1000"
   ]
  },
  {
   "cell_type": "code",
   "execution_count": 6,
   "id": "c62e352f",
   "metadata": {},
   "outputs": [
    {
     "ename": "NameError",
     "evalue": "name 'Wavelength' is not defined",
     "output_type": "error",
     "traceback": [
      "\u001b[0;31m---------------------------------------------------------------------------\u001b[0m",
      "\u001b[0;31mNameError\u001b[0m                                 Traceback (most recent call last)",
      "Cell \u001b[0;32mIn[6], line 1\u001b[0m\n\u001b[0;32m----> 1\u001b[0m \u001b[43mWavelength\u001b[49m(\u001b[38;5;241m0.43\u001b[39m, \u001b[38;5;241m0.50\u001b[39m)\n\u001b[1;32m      2\u001b[0m \u001b[38;5;28;01mdef\u001b[39;00m \u001b[38;5;21mspectralResponseFunction\u001b[39m(bandname):\n\u001b[1;32m      3\u001b[0m \u001b[38;5;250m    \u001b[39m\u001b[38;5;124;03m\"\"\"\u001b[39;00m\n\u001b[1;32m      4\u001b[0m \u001b[38;5;124;03m    Extract spectral response function for given band name\u001b[39;00m\n\u001b[1;32m      5\u001b[0m \u001b[38;5;124;03m    \"\"\"\u001b[39;00m\n",
      "\u001b[0;31mNameError\u001b[0m: name 'Wavelength' is not defined"
     ]
    }
   ],
   "source": [
    "Wavelength(0.43, 0.50)\n",
    "def spectralResponseFunction(bandname):\n",
    "    \"\"\"\n",
    "    Extract spectral response function for given band name\n",
    "    \"\"\"\n",
    "    bandSelect = {\n",
    "        'B1':Wavelength(0.45, 0.52),\n",
    "        'B2':Wavelength(0.52, 0.59),\n",
    "        'B3':Wavelength(0.62, 0.68),\n",
    "        'B4':Wavelength(0.77, 0.86)\n",
    "        }\n",
    "    return bandSelect[bandname]"
   ]
  },
  {
   "cell_type": "code",
   "execution_count": 28,
   "id": "861b9a6e",
   "metadata": {},
   "outputs": [],
   "source": [
    "# Instantiate\n",
    "s = SixS()\n",
    "\n",
    "# Atmospheric constituents\n",
    "s.atmos_profile = AtmosProfile.UserWaterAndOzone(h2o,o3)\n",
    "s.aero_profile = AeroProfile.Continental\n",
    "s.aot550 = aot\n",
    "\n",
    "# Earth-Sun-satellite geometry\n",
    "s.geometry = Geometry.User()\n",
    "s.geometry.view_z = 0               # always NADIR (I think..)\n",
    "s.geometry.solar_z = solar_z        # solar zenith angle\n",
    "s.geometry.month = scene_date.month # month and day used for Earth-Sun distance\n",
    "s.geometry.day = scene_date.day     # month and day used for Earth-Sun distance\n",
    "s.altitudes.set_sensor_satellite_level()\n",
    "s.altitudes.set_target_custom_altitude(km)"
   ]
  },
  {
   "cell_type": "code",
   "execution_count": 30,
   "id": "9735b564",
   "metadata": {},
   "outputs": [],
   "source": [
    "def toa_to_rad(bandname):\n",
    "    \"\"\"\n",
    "    Converts top of atmosphere reflectance to at-sensor radiance\n",
    "    \"\"\"\n",
    "    \n",
    "    # solar exoatmospheric spectral irradiance\n",
    "    ESUN = irradiance_values[bandname]\n",
    "    solar_angle_correction = math.cos(math.radians(solar_z))\n",
    "    \n",
    "    # Earth-Sun distance (from day of year)\n",
    "    doy = scene_date.timetuple().tm_yday\n",
    "    d = 1 - 0.01672 * math.cos(0.9856 * (doy-4))# http://physics.stackexchange.com/questions/177949/earth-sun-distance-on-a-given-day-of-the-year\n",
    "   \n",
    "    # conversion factor\n",
    "    multiplier = ESUN*solar_angle_correction/(math.pi*d**2)\n",
    "\n",
    "    # at-sensor radiance\n",
    "    rad = toa.select(bandname).multiply(multiplier)\n",
    "    \n",
    "    return rad"
   ]
  },
  {
   "cell_type": "code",
   "execution_count": 31,
   "id": "9de9f6e1",
   "metadata": {},
   "outputs": [],
   "source": [
    "def surface_reflectance(bandname):\n",
    "    \"\"\"\n",
    "    Calculate surface reflectance from at-sensor radiance given waveband name\n",
    "    \"\"\"\n",
    "    \n",
    "    # run 6S for this waveband\n",
    "    s.wavelength = spectralResponseFunction(bandname)\n",
    "    s.run()\n",
    "    \n",
    "    # extract 6S outputs\n",
    "    Edir = s.outputs.direct_solar_irradiance             #direct solar irradiance\n",
    "    Edif = s.outputs.diffuse_solar_irradiance            #diffuse solar irradiance\n",
    "    Lp   = s.outputs.atmospheric_intrinsic_radiance      #path radiance\n",
    "    absorb  = s.outputs.trans['global_gas'].upward       #absorption transmissivity\n",
    "    scatter = s.outputs.trans['total_scattering'].upward #scattering transmissivity\n",
    "    tau2 = absorb*scatter                                #total transmissivity\n",
    "    \n",
    "    # radiance to surface reflectance\n",
    "    rad = toa_to_rad(bandname)\n",
    "    ref = rad.subtract(Lp).multiply(math.pi).divide(tau2*(Edir+Edif))\n",
    "    \n",
    "    return ref\n"
   ]
  },
  {
   "cell_type": "code",
   "execution_count": 38,
   "id": "991ac159",
   "metadata": {},
   "outputs": [
    {
     "ename": "ExecutionError",
     "evalue": "6S executable not found.",
     "output_type": "error",
     "traceback": [
      "\u001b[0;31m---------------------------------------------------------------------------\u001b[0m",
      "\u001b[0;31mExecutionError\u001b[0m                            Traceback (most recent call last)",
      "Cell \u001b[0;32mIn[38], line 2\u001b[0m\n\u001b[1;32m      1\u001b[0m \u001b[38;5;66;03m# surface reflectance rgb\u001b[39;00m\n\u001b[0;32m----> 2\u001b[0m b \u001b[38;5;241m=\u001b[39m \u001b[43msurface_reflectance\u001b[49m\u001b[43m(\u001b[49m\u001b[38;5;124;43m'\u001b[39;49m\u001b[38;5;124;43mB1\u001b[39;49m\u001b[38;5;124;43m'\u001b[39;49m\u001b[43m)\u001b[49m\n\u001b[1;32m      3\u001b[0m g \u001b[38;5;241m=\u001b[39m surface_reflectance(\u001b[38;5;124m'\u001b[39m\u001b[38;5;124mB2\u001b[39m\u001b[38;5;124m'\u001b[39m)\n\u001b[1;32m      4\u001b[0m r \u001b[38;5;241m=\u001b[39m surface_reflectance(\u001b[38;5;124m'\u001b[39m\u001b[38;5;124mB3\u001b[39m\u001b[38;5;124m'\u001b[39m)\n",
      "Cell \u001b[0;32mIn[31], line 8\u001b[0m, in \u001b[0;36msurface_reflectance\u001b[0;34m(bandname)\u001b[0m\n\u001b[1;32m      6\u001b[0m \u001b[38;5;66;03m# run 6S for this waveband\u001b[39;00m\n\u001b[1;32m      7\u001b[0m s\u001b[38;5;241m.\u001b[39mwavelength \u001b[38;5;241m=\u001b[39m spectralResponseFunction(bandname)\n\u001b[0;32m----> 8\u001b[0m \u001b[43ms\u001b[49m\u001b[38;5;241;43m.\u001b[39;49m\u001b[43mrun\u001b[49m\u001b[43m(\u001b[49m\u001b[43m)\u001b[49m\n\u001b[1;32m     10\u001b[0m \u001b[38;5;66;03m# extract 6S outputs\u001b[39;00m\n\u001b[1;32m     11\u001b[0m Edir \u001b[38;5;241m=\u001b[39m s\u001b[38;5;241m.\u001b[39moutputs\u001b[38;5;241m.\u001b[39mdirect_solar_irradiance             \u001b[38;5;66;03m#direct solar irradiance\u001b[39;00m\n",
      "File \u001b[0;32m/home/jovyan/Ks/Py6S/sixs.py:344\u001b[0m, in \u001b[0;36mSixS.run\u001b[0;34m(self)\u001b[0m\n\u001b[1;32m    339\u001b[0m \u001b[38;5;250m\u001b[39m\u001b[38;5;124;03m\"\"\"Runs the 6S model and stores the outputs in the output variable.\u001b[39;00m\n\u001b[1;32m    340\u001b[0m \n\u001b[1;32m    341\u001b[0m \u001b[38;5;124;03mMay raise an :class:`.ExecutionError` if the 6S executable cannot be found.\"\"\"\u001b[39;00m\n\u001b[1;32m    343\u001b[0m \u001b[38;5;28;01mif\u001b[39;00m \u001b[38;5;28mself\u001b[39m\u001b[38;5;241m.\u001b[39msixs_path \u001b[38;5;129;01mis\u001b[39;00m \u001b[38;5;28;01mNone\u001b[39;00m:\n\u001b[0;32m--> 344\u001b[0m     \u001b[38;5;28;01mraise\u001b[39;00m ExecutionError(\u001b[38;5;124m\"\u001b[39m\u001b[38;5;124m6S executable not found.\u001b[39m\u001b[38;5;124m\"\u001b[39m)\n\u001b[1;32m    346\u001b[0m \u001b[38;5;66;03m# Create the input file as a temporary file\u001b[39;00m\n\u001b[1;32m    347\u001b[0m tmp_file_name \u001b[38;5;241m=\u001b[39m \u001b[38;5;28mself\u001b[39m\u001b[38;5;241m.\u001b[39mwrite_input_file()\n",
      "\u001b[0;31mExecutionError\u001b[0m: 6S executable not found."
     ]
    }
   ],
   "source": [
    "# surface reflectance rgb\n",
    "b = surface_reflectance('B1')\n",
    "g = surface_reflectance('B2')\n",
    "r = surface_reflectance('B3')\n",
    "ref = r.addBands(g).addBands(b)\n"
   ]
  },
  {
   "cell_type": "code",
   "execution_count": 3,
   "id": "fb90d326",
   "metadata": {},
   "outputs": [],
   "source": [
    "import Py6S\n",
    "Py6S.sixs_path = '/home/jovyan/Ks/Py6S-1.9.2/Py6S'"
   ]
  },
  {
   "cell_type": "code",
   "execution_count": 17,
   "id": "9fb86651",
   "metadata": {},
   "outputs": [],
   "source": [
    "import os\n",
    "new_directory = \"/home/jovyan/\"\n",
    "os.chdir(new_directory)"
   ]
  },
  {
   "cell_type": "code",
   "execution_count": 18,
   "id": "d6114ec8",
   "metadata": {},
   "outputs": [
    {
     "name": "stdout",
     "output_type": "stream",
     "text": [
      "/home/jovyan\n"
     ]
    }
   ],
   "source": [
    "!pwd"
   ]
  },
  {
   "cell_type": "code",
   "execution_count": 5,
   "id": "4427158a",
   "metadata": {},
   "outputs": [
    {
     "data": {
      "text/plain": [
       "True"
      ]
     },
     "execution_count": 5,
     "metadata": {},
     "output_type": "execute_result"
    }
   ],
   "source": [
    "os.path.exists(\"/home/jovyan/Ks/\")\n"
   ]
  },
  {
   "cell_type": "code",
   "execution_count": 19,
   "id": "d9299af8",
   "metadata": {},
   "outputs": [
    {
     "name": "stdout",
     "output_type": "stream",
     "text": [
      "6S wrapper script by Robin Wilson\n",
      "Error: cannot find the sixs executable in $PATH or current directory.\n"
     ]
    },
    {
     "ename": "ExecutionError",
     "evalue": "6S executable not found.",
     "output_type": "error",
     "traceback": [
      "\u001b[0;31m---------------------------------------------------------------------------\u001b[0m",
      "\u001b[0;31mExecutionError\u001b[0m                            Traceback (most recent call last)",
      "Cell \u001b[0;32mIn[19], line 5\u001b[0m\n\u001b[1;32m      3\u001b[0m SixS\u001b[38;5;241m.\u001b[39mtest()\n\u001b[1;32m      4\u001b[0m s \u001b[38;5;241m=\u001b[39m SixS()\n\u001b[0;32m----> 5\u001b[0m \u001b[43ms\u001b[49m\u001b[38;5;241;43m.\u001b[39;49m\u001b[43mrun\u001b[49m\u001b[43m(\u001b[49m\u001b[43m)\u001b[49m\n",
      "File \u001b[0;32m/home/jovyan/lulc-notebook-workspace/Ks/Py6S/sixs.py:344\u001b[0m, in \u001b[0;36mSixS.run\u001b[0;34m(self)\u001b[0m\n\u001b[1;32m    339\u001b[0m \u001b[38;5;250m\u001b[39m\u001b[38;5;124;03m\"\"\"Runs the 6S model and stores the outputs in the output variable.\u001b[39;00m\n\u001b[1;32m    340\u001b[0m \n\u001b[1;32m    341\u001b[0m \u001b[38;5;124;03mMay raise an :class:`.ExecutionError` if the 6S executable cannot be found.\"\"\"\u001b[39;00m\n\u001b[1;32m    343\u001b[0m \u001b[38;5;28;01mif\u001b[39;00m \u001b[38;5;28mself\u001b[39m\u001b[38;5;241m.\u001b[39msixs_path \u001b[38;5;129;01mis\u001b[39;00m \u001b[38;5;28;01mNone\u001b[39;00m:\n\u001b[0;32m--> 344\u001b[0m     \u001b[38;5;28;01mraise\u001b[39;00m ExecutionError(\u001b[38;5;124m\"\u001b[39m\u001b[38;5;124m6S executable not found.\u001b[39m\u001b[38;5;124m\"\u001b[39m)\n\u001b[1;32m    346\u001b[0m \u001b[38;5;66;03m# Create the input file as a temporary file\u001b[39;00m\n\u001b[1;32m    347\u001b[0m tmp_file_name \u001b[38;5;241m=\u001b[39m \u001b[38;5;28mself\u001b[39m\u001b[38;5;241m.\u001b[39mwrite_input_file()\n",
      "\u001b[0;31mExecutionError\u001b[0m: 6S executable not found."
     ]
    }
   ],
   "source": [
    "from Py6S import *\n",
    "# Py6S.sixs_path = '/home/jovyan/Ks/Py6S-1.9.2/Py6S'\n",
    "SixS.test()\n",
    "s = SixS()\n",
    "s.run()"
   ]
  },
  {
   "cell_type": "code",
   "execution_count": 10,
   "id": "96a0791c",
   "metadata": {},
   "outputs": [
    {
     "name": "stdout",
     "output_type": "stream",
     "text": [
      "/home/jovyan/lulc-notebook-workspace/Ks\n"
     ]
    }
   ],
   "source": [
    "!pwd"
   ]
  },
  {
   "cell_type": "code",
   "execution_count": null,
   "id": "82d5e140",
   "metadata": {},
   "outputs": [],
   "source": []
  }
 ],
 "metadata": {
  "kernelspec": {
   "display_name": "Python 3 (ipykernel)",
   "language": "python",
   "name": "python3"
  },
  "language_info": {
   "codemirror_mode": {
    "name": "ipython",
    "version": 3
   },
   "file_extension": ".py",
   "mimetype": "text/x-python",
   "name": "python",
   "nbconvert_exporter": "python",
   "pygments_lexer": "ipython3",
   "version": "3.10.13"
  }
 },
 "nbformat": 4,
 "nbformat_minor": 5
}
